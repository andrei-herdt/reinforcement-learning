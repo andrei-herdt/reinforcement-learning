{
 "cells": [
  {
   "cell_type": "markdown",
   "metadata": {},
   "source": [
    "ToDo:\n",
    "* Would shuffling prior to training help?\n",
    "* Why does Keras fit method give better results than the tf implementation?\n",
    "* What rewards function is hard-coded in the environments?\n",
    "* The mean reward of learned policy is random (because of shuffling?)\n",
    "* Increasing the amount of data doesn't help, as the loss gradient is very low towards the end"
   ]
  },
  {
   "cell_type": "code",
   "execution_count": 1,
   "metadata": {},
   "outputs": [
    {
     "name": "stdout",
     "output_type": "stream",
     "text": [
      "env: MUJOCO_PY_MJKEY_PATH=/home/had/rl/mjpro131/bin/mjkey.txt\n",
      "env: MUJOCO_PY_MJPRO_PATH=/home/had/rl/mjpro131\n"
     ]
    }
   ],
   "source": [
    "%env MUJOCO_PY_MJKEY_PATH=/home/had/rl/mjpro131/bin/mjkey.txt\n",
    "%env MUJOCO_PY_MJPRO_PATH=/home/had/rl/mjpro131"
   ]
  },
  {
   "cell_type": "code",
   "execution_count": 2,
   "metadata": {
    "collapsed": true
   },
   "outputs": [],
   "source": [
    "import pickle\n",
    "import tensorflow as tf\n",
    "import numpy as np\n",
    "import tf_util\n",
    "import gym\n",
    "import load_policy\n",
    "import matplotlib.pyplot as plt\n",
    "\n",
    "import miscellaneous as msc\n",
    "\n",
    "from tqdm import tqdm\n",
    "\n",
    "import pandas as pd"
   ]
  },
  {
   "cell_type": "code",
   "execution_count": 3,
   "metadata": {
    "collapsed": true
   },
   "outputs": [],
   "source": [
    "envname = \"Hopper-v1\"\n",
    "expert_policy_file = \"experts/\" + envname + \".pkl\"\n",
    "render = False\n",
    "num_rollouts = 100"
   ]
  },
  {
   "cell_type": "code",
   "execution_count": 4,
   "metadata": {},
   "outputs": [
    {
     "name": "stdout",
     "output_type": "stream",
     "text": [
      "('obs', (1, 11), (1, 11))\n"
     ]
    }
   ],
   "source": [
    "policy = load_policy.load_policy(expert_policy_file);"
   ]
  },
  {
   "cell_type": "markdown",
   "metadata": {},
   "source": [
    "SET UP tensorflow    "
   ]
  },
  {
   "cell_type": "code",
   "execution_count": 5,
   "metadata": {
    "collapsed": true
   },
   "outputs": [],
   "source": [
    "sess = tf.InteractiveSession()\n",
    "sess.run(tf.global_variables_initializer())"
   ]
  },
  {
   "cell_type": "code",
   "execution_count": 6,
   "metadata": {},
   "outputs": [
    {
     "name": "stderr",
     "output_type": "stream",
     "text": [
      "[2017-09-26 09:58:53,018] Making new env: Hopper-v1\n",
      "100%|██████████| 100/100 [01:02<00:00,  1.54it/s]\n"
     ]
    }
   ],
   "source": [
    "observations = []\n",
    "actions = []\n",
    "rewards = []\n",
    "steps_numbers = []\n",
    "env = gym.make(envname)\n",
    "\n",
    "for i in tqdm(range(num_rollouts)):\n",
    "    observations_rollout, actions_rollout, total_reward, number_steps = msc.rollout(env, policy, render)\n",
    "    observations += observations_rollout\n",
    "    actions += actions_rollout\n",
    "    rewards.append(total_reward)\n",
    "    steps_numbers.append(number_steps)\n",
    "    "
   ]
  },
  {
   "cell_type": "code",
   "execution_count": 7,
   "metadata": {
    "collapsed": true
   },
   "outputs": [],
   "source": [
    "expert_data = {'observations': np.array(observations),\n",
    "                'actions': np.array(actions),\n",
    "                'returns': np.array(rewards),\n",
    "                'steps': np.array(steps_numbers)}"
   ]
  },
  {
   "cell_type": "markdown",
   "metadata": {},
   "source": [
    "Train policy"
   ]
  },
  {
   "cell_type": "code",
   "execution_count": 8,
   "metadata": {
    "collapsed": true
   },
   "outputs": [],
   "source": [
    "def baseline_model(input_dimension, output_dimension):\n",
    "    model = Sequential()\n",
    "    model.add(Dense(input_dimension/2, input_dim=input_dimension, init='normal', activation='relu'))\n",
    "    model.add(Dense(output_dimension, init='normal'))\n",
    "\n",
    "    model.compile(loss='mse', optimizer='adam', metrics=['mae'])\n",
    "    return model"
   ]
  },
  {
   "cell_type": "code",
   "execution_count": 9,
   "metadata": {},
   "outputs": [
    {
     "name": "stderr",
     "output_type": "stream",
     "text": [
      "Using TensorFlow backend.\n"
     ]
    },
    {
     "name": "stdout",
     "output_type": "stream",
     "text": [
      "Epoch 1/20\n",
      "\r",
      "    32/100000 [..............................] - ETA: 83s - loss: 1.7684 - mean_absolute_error: 0.9946"
     ]
    },
    {
     "name": "stderr",
     "output_type": "stream",
     "text": [
      "/usr/local/lib/python2.7/dist-packages/ipykernel_launcher.py:3: UserWarning: Update your `Dense` call to the Keras 2 API: `Dense(5, activation=\"relu\", kernel_initializer=\"normal\", input_dim=11)`\n",
      "  This is separate from the ipykernel package so we can avoid doing imports until\n",
      "/usr/local/lib/python2.7/dist-packages/ipykernel_launcher.py:4: UserWarning: Update your `Dense` call to the Keras 2 API: `Dense(3, kernel_initializer=\"normal\")`\n",
      "  after removing the cwd from sys.path.\n"
     ]
    },
    {
     "name": "stdout",
     "output_type": "stream",
     "text": [
      "100000/100000 [==============================] - 3s - loss: 0.4367 - mean_absolute_error: 0.4198     \n",
      "Epoch 2/20\n",
      "100000/100000 [==============================] - 3s - loss: 0.1126 - mean_absolute_error: 0.2322     \n",
      "Epoch 3/20\n",
      "100000/100000 [==============================] - 3s - loss: 0.0821 - mean_absolute_error: 0.1995     \n",
      "Epoch 4/20\n",
      "100000/100000 [==============================] - 3s - loss: 0.0606 - mean_absolute_error: 0.1728     \n",
      "Epoch 5/20\n",
      "100000/100000 [==============================] - 3s - loss: 0.0522 - mean_absolute_error: 0.1601     \n",
      "Epoch 6/20\n",
      "100000/100000 [==============================] - 3s - loss: 0.0479 - mean_absolute_error: 0.1521     \n",
      "Epoch 7/20\n",
      "100000/100000 [==============================] - 3s - loss: 0.0454 - mean_absolute_error: 0.1478     \n",
      "Epoch 8/20\n",
      "100000/100000 [==============================] - 3s - loss: 0.0437 - mean_absolute_error: 0.1453     \n",
      "Epoch 9/20\n",
      "100000/100000 [==============================] - 3s - loss: 0.0424 - mean_absolute_error: 0.1436     \n",
      "Epoch 10/20\n",
      "100000/100000 [==============================] - 3s - loss: 0.0412 - mean_absolute_error: 0.1421     \n",
      "Epoch 11/20\n",
      "100000/100000 [==============================] - 3s - loss: 0.0402 - mean_absolute_error: 0.1412     \n",
      "Epoch 12/20\n",
      "100000/100000 [==============================] - 3s - loss: 0.0395 - mean_absolute_error: 0.1403     \n",
      "Epoch 13/20\n",
      "100000/100000 [==============================] - 3s - loss: 0.0390 - mean_absolute_error: 0.1396     \n",
      "Epoch 14/20\n",
      "100000/100000 [==============================] - 3s - loss: 0.0385 - mean_absolute_error: 0.1388     \n",
      "Epoch 15/20\n",
      "100000/100000 [==============================] - 3s - loss: 0.0382 - mean_absolute_error: 0.1384     \n",
      "Epoch 16/20\n",
      "100000/100000 [==============================] - 3s - loss: 0.0380 - mean_absolute_error: 0.1380     \n",
      "Epoch 17/20\n",
      "100000/100000 [==============================] - 3s - loss: 0.0377 - mean_absolute_error: 0.1377     \n",
      "Epoch 18/20\n",
      "100000/100000 [==============================] - 3s - loss: 0.0374 - mean_absolute_error: 0.1372     \n",
      "Epoch 19/20\n",
      "100000/100000 [==============================] - 3s - loss: 0.0368 - mean_absolute_error: 0.1364     \n",
      "Epoch 20/20\n",
      "100000/100000 [==============================] - 3s - loss: 0.0358 - mean_absolute_error: 0.1340     \n"
     ]
    }
   ],
   "source": [
    "from sklearn.utils import shuffle\n",
    "from keras.models import Sequential\n",
    "from keras.layers import Dense, Lambda\n",
    "\n",
    "observations_array = np.array(observations)\n",
    "input_dimension = observations_array.shape[1]\n",
    "actions_array = np.array(actions)\n",
    "output_dimension = actions_array.shape[2]\n",
    "\n",
    "policy = baseline_model(input_dimension, output_dimension)\n",
    "observations_array, actions_array = shuffle(observations_array, actions_array.reshape(-1, output_dimension))\n",
    "history = policy.fit(observations_array, actions_array, epochs=20)"
   ]
  },
  {
   "cell_type": "code",
   "execution_count": 10,
   "metadata": {},
   "outputs": [
    {
     "data": {
      "image/png": "[encoded data removed]",
      "text/plain": [
       "<matplotlib.figure.Figure at 0x7f718bd33f10>"
      ]
     },
     "metadata": {},
     "output_type": "display_data"
    },
    {
     "data": {
      "image/png": "[encoded data removed]",
      "text/plain": [
       "<matplotlib.figure.Figure at 0x7f718bbf7790>"
      ]
     },
     "metadata": {},
     "output_type": "display_data"
    }
   ],
   "source": [
    "#  \"Mean absolute error\"\n",
    "plt.plot(history.history['mean_absolute_error'])\n",
    "plt.title('Mean absolute error')\n",
    "plt.ylabel('mean absolute error')\n",
    "plt.xlabel('epoch')\n",
    "plt.show()\n",
    "# \"Loss\"\n",
    "plt.plot(history.history['loss'])\n",
    "plt.title('model loss')\n",
    "plt.ylabel('loss')\n",
    "plt.xlabel('epoch')\n",
    "plt.show()\n"
   ]
  },
  {
   "cell_type": "code",
   "execution_count": 11,
   "metadata": {},
   "outputs": [
    {
     "name": "stderr",
     "output_type": "stream",
     "text": [
      "100%|██████████| 100/100 [00:12<00:00,  7.89it/s]\n"
     ]
    }
   ],
   "source": [
    "rewards = []\n",
    "observations = []\n",
    "actions = []\n",
    "steps_numbers = []\n",
    "max_steps = env.spec.tags.get('wrapper_config.TimeLimit.max_episode_steps')\n",
    "render = False\n",
    "\n",
    "for i in tqdm(range(num_rollouts)):\n",
    "    obs = env.reset()\n",
    "    done = False\n",
    "    totalreward = 0.\n",
    "    steps = 0\n",
    "    while not done:\n",
    "        action = policy.predict(obs[None, :])\n",
    "        observations.append(obs)\n",
    "        actions.append(action)\n",
    "        obs, reward, done, info = env.step(action)\n",
    "        totalreward += reward\n",
    "        steps += 1\n",
    "        if render:\n",
    "            env.render()\n",
    "        if steps >= max_steps:\n",
    "            break\n",
    "    steps_numbers.append(steps)\n",
    "    rewards.append(totalreward)\n",
    "\n",
    "trained_policy_data = {'observations': np.array(observations),\n",
    "                'actions': np.array(actions),\n",
    "                'returns': np.array(rewards),\n",
    "                'steps': np.array(steps_numbers)}"
   ]
  },
  {
   "cell_type": "code",
   "execution_count": 12,
   "metadata": {},
   "outputs": [],
   "source": [
    "trained_policy_df = pd.DataFrame(trained_policy_data, columns=['returns', 'steps'])\n",
    "expert_df = pd.DataFrame(expert_data, columns=['returns', 'steps'])"
   ]
  },
  {
   "cell_type": "code",
   "execution_count": 13,
   "metadata": {},
   "outputs": [
    {
     "data": {
      "text/html": [
       "<div>\n",
       "<style>\n",
       "    .dataframe thead tr:only-child th {\n",
       "        text-align: right;\n",
       "    }\n",
       "\n",
       "    .dataframe thead th {\n",
       "        text-align: left;\n",
       "    }\n",
       "\n",
       "    .dataframe tbody tr th {\n",
       "        vertical-align: top;\n",
       "    }\n",
       "</style>\n",
       "<table border=\"1\" class=\"dataframe\">\n",
       "  <thead>\n",
       "    <tr style=\"text-align: right;\">\n",
       "      <th></th>\n",
       "      <th>returns</th>\n",
       "      <th>steps</th>\n",
       "      <th>returns</th>\n",
       "      <th>steps</th>\n",
       "    </tr>\n",
       "  </thead>\n",
       "  <tbody>\n",
       "    <tr>\n",
       "      <th>count</th>\n",
       "      <td>100.000000</td>\n",
       "      <td>100.000000</td>\n",
       "      <td>100.000000</td>\n",
       "      <td>100.0</td>\n",
       "    </tr>\n",
       "    <tr>\n",
       "      <th>mean</th>\n",
       "      <td>374.962493</td>\n",
       "      <td>147.300000</td>\n",
       "      <td>3778.679419</td>\n",
       "      <td>1000.0</td>\n",
       "    </tr>\n",
       "    <tr>\n",
       "      <th>std</th>\n",
       "      <td>1.966855</td>\n",
       "      <td>0.703526</td>\n",
       "      <td>3.902479</td>\n",
       "      <td>0.0</td>\n",
       "    </tr>\n",
       "    <tr>\n",
       "      <th>min</th>\n",
       "      <td>370.898751</td>\n",
       "      <td>146.000000</td>\n",
       "      <td>3769.889129</td>\n",
       "      <td>1000.0</td>\n",
       "    </tr>\n",
       "    <tr>\n",
       "      <th>25%</th>\n",
       "      <td>373.764427</td>\n",
       "      <td>147.000000</td>\n",
       "      <td>3775.970157</td>\n",
       "      <td>1000.0</td>\n",
       "    </tr>\n",
       "    <tr>\n",
       "      <th>50%</th>\n",
       "      <td>374.545795</td>\n",
       "      <td>147.000000</td>\n",
       "      <td>3779.123108</td>\n",
       "      <td>1000.0</td>\n",
       "    </tr>\n",
       "    <tr>\n",
       "      <th>75%</th>\n",
       "      <td>376.701012</td>\n",
       "      <td>148.000000</td>\n",
       "      <td>3781.077802</td>\n",
       "      <td>1000.0</td>\n",
       "    </tr>\n",
       "    <tr>\n",
       "      <th>max</th>\n",
       "      <td>380.141276</td>\n",
       "      <td>149.000000</td>\n",
       "      <td>3788.154271</td>\n",
       "      <td>1000.0</td>\n",
       "    </tr>\n",
       "  </tbody>\n",
       "</table>\n",
       "</div>"
      ],
      "text/plain": [
       "          returns       steps      returns   steps\n",
       "count  100.000000  100.000000   100.000000   100.0\n",
       "mean   374.962493  147.300000  3778.679419  1000.0\n",
       "std      1.966855    0.703526     3.902479     0.0\n",
       "min    370.898751  146.000000  3769.889129  1000.0\n",
       "25%    373.764427  147.000000  3775.970157  1000.0\n",
       "50%    374.545795  147.000000  3779.123108  1000.0\n",
       "75%    376.701012  148.000000  3781.077802  1000.0\n",
       "max    380.141276  149.000000  3788.154271  1000.0"
      ]
     },
     "execution_count": 13,
     "metadata": {},
     "output_type": "execute_result"
    }
   ],
   "source": [
    "pd.concat([trained_policy_df, expert_df], axis = 1).describe()"
   ]
  },
  {
   "cell_type": "markdown",
   "metadata": {},
   "source": [
    "\n",
    "\n",
    "\n",
    "\n"
   ]
  }
 ],
 "metadata": {
  "kernelspec": {
   "display_name": "Python 2",
   "language": "python",
   "name": "python2"
  },
  "language_info": {
   "codemirror_mode": {
    "name": "ipython",
    "version": 2
   },
   "file_extension": ".py",
   "mimetype": "text/x-python",
   "name": "python",
   "nbconvert_exporter": "python",
   "pygments_lexer": "ipython2",
   "version": "2.7.12"
  }
 },
 "nbformat": 4,
 "nbformat_minor": 2
}
